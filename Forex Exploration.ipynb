{
 "cells": [
  {
   "cell_type": "markdown",
   "metadata": {},
   "source": [
    "# Forex CNN in Keras"
   ]
  },
  {
   "cell_type": "markdown",
   "metadata": {},
   "source": [
    "The method investigated below involes converting Forex timeseries data into RGB format via hexadecimal.  This may make a format that is friendly to a CNN."
   ]
  },
  {
   "cell_type": "markdown",
   "metadata": {},
   "source": [
    "## Converting timeseries data to RGB"
   ]
  },
  {
   "cell_type": "markdown",
   "metadata": {},
   "source": [
    "## 1. Examining the data"
   ]
  },
  {
   "cell_type": "markdown",
   "metadata": {},
   "source": [
    "First we'll load up some data freely available on the web.  Here is USD-EUR data for the year 2000."
   ]
  },
  {
   "cell_type": "code",
   "execution_count": 55,
   "metadata": {
    "scrolled": true
   },
   "outputs": [
    {
     "data": {
      "text/html": [
       "<div>\n",
       "<style>\n",
       "    .dataframe thead tr:only-child th {\n",
       "        text-align: right;\n",
       "    }\n",
       "\n",
       "    .dataframe thead th {\n",
       "        text-align: left;\n",
       "    }\n",
       "\n",
       "    .dataframe tbody tr th {\n",
       "        vertical-align: top;\n",
       "    }\n",
       "</style>\n",
       "<table border=\"1\" class=\"dataframe\">\n",
       "  <thead>\n",
       "    <tr style=\"text-align: right;\">\n",
       "      <th></th>\n",
       "      <th>2000.05.30</th>\n",
       "      <th>17:27</th>\n",
       "      <th>0.9302</th>\n",
       "      <th>0.9302.1</th>\n",
       "      <th>0.9302.2</th>\n",
       "      <th>0.9302.3</th>\n",
       "      <th>0</th>\n",
       "    </tr>\n",
       "  </thead>\n",
       "  <tbody>\n",
       "    <tr>\n",
       "      <th>0</th>\n",
       "      <td>2000.05.30</td>\n",
       "      <td>17:35</td>\n",
       "      <td>0.9304</td>\n",
       "      <td>0.9305</td>\n",
       "      <td>0.9304</td>\n",
       "      <td>0.9305</td>\n",
       "      <td>0</td>\n",
       "    </tr>\n",
       "    <tr>\n",
       "      <th>1</th>\n",
       "      <td>2000.05.30</td>\n",
       "      <td>17:38</td>\n",
       "      <td>0.9304</td>\n",
       "      <td>0.9304</td>\n",
       "      <td>0.9303</td>\n",
       "      <td>0.9303</td>\n",
       "      <td>0</td>\n",
       "    </tr>\n",
       "    <tr>\n",
       "      <th>2</th>\n",
       "      <td>2000.05.30</td>\n",
       "      <td>17:43</td>\n",
       "      <td>0.9301</td>\n",
       "      <td>0.9301</td>\n",
       "      <td>0.9300</td>\n",
       "      <td>0.9300</td>\n",
       "      <td>0</td>\n",
       "    </tr>\n",
       "    <tr>\n",
       "      <th>3</th>\n",
       "      <td>2000.05.30</td>\n",
       "      <td>17:44</td>\n",
       "      <td>0.9298</td>\n",
       "      <td>0.9298</td>\n",
       "      <td>0.9297</td>\n",
       "      <td>0.9297</td>\n",
       "      <td>0</td>\n",
       "    </tr>\n",
       "    <tr>\n",
       "      <th>4</th>\n",
       "      <td>2000.05.30</td>\n",
       "      <td>18:29</td>\n",
       "      <td>0.9298</td>\n",
       "      <td>0.9299</td>\n",
       "      <td>0.9298</td>\n",
       "      <td>0.9299</td>\n",
       "      <td>0</td>\n",
       "    </tr>\n",
       "    <tr>\n",
       "      <th>5</th>\n",
       "      <td>2000.05.30</td>\n",
       "      <td>18:37</td>\n",
       "      <td>0.9300</td>\n",
       "      <td>0.9300</td>\n",
       "      <td>0.9300</td>\n",
       "      <td>0.9300</td>\n",
       "      <td>0</td>\n",
       "    </tr>\n",
       "    <tr>\n",
       "      <th>6</th>\n",
       "      <td>2000.05.30</td>\n",
       "      <td>18:40</td>\n",
       "      <td>0.9299</td>\n",
       "      <td>0.9299</td>\n",
       "      <td>0.9299</td>\n",
       "      <td>0.9299</td>\n",
       "      <td>0</td>\n",
       "    </tr>\n",
       "    <tr>\n",
       "      <th>7</th>\n",
       "      <td>2000.05.30</td>\n",
       "      <td>18:41</td>\n",
       "      <td>0.9300</td>\n",
       "      <td>0.9300</td>\n",
       "      <td>0.9300</td>\n",
       "      <td>0.9300</td>\n",
       "      <td>0</td>\n",
       "    </tr>\n",
       "    <tr>\n",
       "      <th>8</th>\n",
       "      <td>2000.05.30</td>\n",
       "      <td>18:42</td>\n",
       "      <td>0.9299</td>\n",
       "      <td>0.9299</td>\n",
       "      <td>0.9298</td>\n",
       "      <td>0.9299</td>\n",
       "      <td>0</td>\n",
       "    </tr>\n",
       "    <tr>\n",
       "      <th>9</th>\n",
       "      <td>2000.05.30</td>\n",
       "      <td>18:43</td>\n",
       "      <td>0.9300</td>\n",
       "      <td>0.9300</td>\n",
       "      <td>0.9300</td>\n",
       "      <td>0.9300</td>\n",
       "      <td>0</td>\n",
       "    </tr>\n",
       "  </tbody>\n",
       "</table>\n",
       "</div>"
      ],
      "text/plain": [
       "   2000.05.30  17:27  0.9302  0.9302.1  0.9302.2  0.9302.3  0\n",
       "0  2000.05.30  17:35  0.9304    0.9305    0.9304    0.9305  0\n",
       "1  2000.05.30  17:38  0.9304    0.9304    0.9303    0.9303  0\n",
       "2  2000.05.30  17:43  0.9301    0.9301    0.9300    0.9300  0\n",
       "3  2000.05.30  17:44  0.9298    0.9298    0.9297    0.9297  0\n",
       "4  2000.05.30  18:29  0.9298    0.9299    0.9298    0.9299  0\n",
       "5  2000.05.30  18:37  0.9300    0.9300    0.9300    0.9300  0\n",
       "6  2000.05.30  18:40  0.9299    0.9299    0.9299    0.9299  0\n",
       "7  2000.05.30  18:41  0.9300    0.9300    0.9300    0.9300  0\n",
       "8  2000.05.30  18:42  0.9299    0.9299    0.9298    0.9299  0\n",
       "9  2000.05.30  18:43  0.9300    0.9300    0.9300    0.9300  0"
      ]
     },
     "execution_count": 55,
     "metadata": {},
     "output_type": "execute_result"
    }
   ],
   "source": [
    "import pandas as pd\n",
    "%matplotlib inline\n",
    "import matplotlib.pyplot as plt\n",
    "\n",
    "usd_eur_2000 = pd.read_csv(\"DAT_MT_EURUSD_M1_2000.csv\")\n",
    "usd_eur_2000[:10]"
   ]
  },
  {
   "cell_type": "markdown",
   "metadata": {},
   "source": [
    "These columns aren't well labled but that's okay, data is typicaly in OHLC - Open / High / Low / Close format.  Let's look at a graph. To do that we will need to make a real datetime out of the first two columns."
   ]
  },
  {
   "cell_type": "code",
   "execution_count": 56,
   "metadata": {
    "scrolled": true
   },
   "outputs": [
    {
     "data": {
      "text/html": [
       "<div>\n",
       "<style>\n",
       "    .dataframe thead tr:only-child th {\n",
       "        text-align: right;\n",
       "    }\n",
       "\n",
       "    .dataframe thead th {\n",
       "        text-align: left;\n",
       "    }\n",
       "\n",
       "    .dataframe tbody tr th {\n",
       "        vertical-align: top;\n",
       "    }\n",
       "</style>\n",
       "<table border=\"1\" class=\"dataframe\">\n",
       "  <thead>\n",
       "    <tr style=\"text-align: right;\">\n",
       "      <th></th>\n",
       "      <th>datetimes</th>\n",
       "      <th>open</th>\n",
       "      <th>high</th>\n",
       "      <th>low</th>\n",
       "      <th>close</th>\n",
       "    </tr>\n",
       "  </thead>\n",
       "  <tbody>\n",
       "    <tr>\n",
       "      <th>0</th>\n",
       "      <td>2000-05-30 17:35:00</td>\n",
       "      <td>0.9304</td>\n",
       "      <td>0.9305</td>\n",
       "      <td>0.9304</td>\n",
       "      <td>0.9305</td>\n",
       "    </tr>\n",
       "    <tr>\n",
       "      <th>1</th>\n",
       "      <td>2000-05-30 17:38:00</td>\n",
       "      <td>0.9304</td>\n",
       "      <td>0.9304</td>\n",
       "      <td>0.9303</td>\n",
       "      <td>0.9303</td>\n",
       "    </tr>\n",
       "    <tr>\n",
       "      <th>2</th>\n",
       "      <td>2000-05-30 17:43:00</td>\n",
       "      <td>0.9301</td>\n",
       "      <td>0.9301</td>\n",
       "      <td>0.9300</td>\n",
       "      <td>0.9300</td>\n",
       "    </tr>\n",
       "    <tr>\n",
       "      <th>3</th>\n",
       "      <td>2000-05-30 17:44:00</td>\n",
       "      <td>0.9298</td>\n",
       "      <td>0.9298</td>\n",
       "      <td>0.9297</td>\n",
       "      <td>0.9297</td>\n",
       "    </tr>\n",
       "    <tr>\n",
       "      <th>4</th>\n",
       "      <td>2000-05-30 18:29:00</td>\n",
       "      <td>0.9298</td>\n",
       "      <td>0.9299</td>\n",
       "      <td>0.9298</td>\n",
       "      <td>0.9299</td>\n",
       "    </tr>\n",
       "  </tbody>\n",
       "</table>\n",
       "</div>"
      ],
      "text/plain": [
       "            datetimes    open    high     low   close\n",
       "0 2000-05-30 17:35:00  0.9304  0.9305  0.9304  0.9305\n",
       "1 2000-05-30 17:38:00  0.9304  0.9304  0.9303  0.9303\n",
       "2 2000-05-30 17:43:00  0.9301  0.9301  0.9300  0.9300\n",
       "3 2000-05-30 17:44:00  0.9298  0.9298  0.9297  0.9297\n",
       "4 2000-05-30 18:29:00  0.9298  0.9299  0.9298  0.9299"
      ]
     },
     "execution_count": 56,
     "metadata": {},
     "output_type": "execute_result"
    }
   ],
   "source": [
    "from datetime import tzinfo, timedelta, datetime\n",
    "import time as _time\n",
    "\n",
    "del usd_eur_2000[\"0\"]\n",
    "columns = [\"datetimes\", \"waste\", \"open\", \"high\", \"low\", \"close\"]\n",
    "usd_eur_2000.columns = columns\n",
    "\n",
    "dates = usd_eur_2000.iloc[:, 0]\n",
    "times = usd_eur_2000.iloc[:, 1]\n",
    "concated_date = [dates[x] + \":\" + times[x] for x in range(len(usd_eur_2000))]\n",
    "datetimes = [datetime.strptime(t, \"%Y.%m.%d:%H:%M\") for t in concated_date]   \n",
    "usd_eur_2000[\"datetimes\"] = datetimes \n",
    "\n",
    "del usd_eur_2000[\"waste\"]\n",
    "usd_eur_2000[:5]\n"
   ]
  },
  {
   "cell_type": "code",
   "execution_count": 59,
   "metadata": {},
   "outputs": [
    {
     "data": {
      "text/plain": [
       "[<matplotlib.lines.Line2D at 0x7ff144c824a8>]"
      ]
     },
     "execution_count": 59,
     "metadata": {},
     "output_type": "execute_result"
    },
    {
     "data": {
      "image/png": "[encoded data removed]",
      "text/plain": [
       "<matplotlib.figure.Figure at 0x7ff142835630>"
      ]
     },
     "metadata": {},
     "output_type": "display_data"
    }
   ],
   "source": [
    "plt.plot(usd_eur_2000[\"datetimes\"][:100], usd_eur_2000[\"open\"][:100])\n",
    "plt.plot(usd_eur_2000[\"datetimes\"][:100], usd_eur_2000[\"close\"][:100])"
   ]
  },
  {
   "cell_type": "code",
   "execution_count": null,
   "metadata": {
    "collapsed": true
   },
   "outputs": [],
   "source": []
  }
 ],
 "metadata": {
  "kernelspec": {
   "display_name": "Python [conda env:py35]",
   "language": "python",
   "name": "conda-env-py35-py"
  },
  "language_info": {
   "codemirror_mode": {
    "name": "ipython",
    "version": 3
   },
   "file_extension": ".py",
   "mimetype": "text/x-python",
   "name": "python",
   "nbconvert_exporter": "python",
   "pygments_lexer": "ipython3",
   "version": "3.5.3"
  }
 },
 "nbformat": 4,
 "nbformat_minor": 2
}
