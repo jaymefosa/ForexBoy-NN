{
 "cells": [
  {
   "cell_type": "markdown",
   "metadata": {},
   "source": [
    "# Forex CNN in Keras"
   ]
  },
  {
   "cell_type": "markdown",
   "metadata": {},
   "source": [
    "The method investigated below involes converting Forex timeseries data into RGB format via hexadecimal.  This may make a format that is friendly to a CNN."
   ]
  },
  {
   "cell_type": "markdown",
   "metadata": {},
   "source": [
    "## Converting timeseries data to RGB"
   ]
  },
  {
   "cell_type": "markdown",
   "metadata": {},
   "source": [
    "## 1. Examining the data"
   ]
  },
  {
   "cell_type": "markdown",
   "metadata": {},
   "source": [
    "First we'll load up some data freely available on the web.  Here is USD-EUR data for the year 2000."
   ]
  },
  {
   "cell_type": "code",
   "execution_count": 3,
   "metadata": {},
   "outputs": [
    {
     "data": {
      "text/html": [
       "<div>\n",
       "<style>\n",
       "    .dataframe thead tr:only-child th {\n",
       "        text-align: right;\n",
       "    }\n",
       "\n",
       "    .dataframe thead th {\n",
       "        text-align: left;\n",
       "    }\n",
       "\n",
       "    .dataframe tbody tr th {\n",
       "        vertical-align: top;\n",
       "    }\n",
       "</style>\n",
       "<table border=\"1\" class=\"dataframe\">\n",
       "  <thead>\n",
       "    <tr style=\"text-align: right;\">\n",
       "      <th></th>\n",
       "      <th>2000.05.30</th>\n",
       "      <th>17:27</th>\n",
       "      <th>0.9302</th>\n",
       "      <th>0.9302.1</th>\n",
       "      <th>0.9302.2</th>\n",
       "      <th>0.9302.3</th>\n",
       "      <th>0</th>\n",
       "    </tr>\n",
       "  </thead>\n",
       "  <tbody>\n",
       "    <tr>\n",
       "      <th>0</th>\n",
       "      <td>2000.05.30</td>\n",
       "      <td>17:35</td>\n",
       "      <td>0.9304</td>\n",
       "      <td>0.9305</td>\n",
       "      <td>0.9304</td>\n",
       "      <td>0.9305</td>\n",
       "      <td>0</td>\n",
       "    </tr>\n",
       "    <tr>\n",
       "      <th>1</th>\n",
       "      <td>2000.05.30</td>\n",
       "      <td>17:38</td>\n",
       "      <td>0.9304</td>\n",
       "      <td>0.9304</td>\n",
       "      <td>0.9303</td>\n",
       "      <td>0.9303</td>\n",
       "      <td>0</td>\n",
       "    </tr>\n",
       "    <tr>\n",
       "      <th>2</th>\n",
       "      <td>2000.05.30</td>\n",
       "      <td>17:43</td>\n",
       "      <td>0.9301</td>\n",
       "      <td>0.9301</td>\n",
       "      <td>0.9300</td>\n",
       "      <td>0.9300</td>\n",
       "      <td>0</td>\n",
       "    </tr>\n",
       "    <tr>\n",
       "      <th>3</th>\n",
       "      <td>2000.05.30</td>\n",
       "      <td>17:44</td>\n",
       "      <td>0.9298</td>\n",
       "      <td>0.9298</td>\n",
       "      <td>0.9297</td>\n",
       "      <td>0.9297</td>\n",
       "      <td>0</td>\n",
       "    </tr>\n",
       "    <tr>\n",
       "      <th>4</th>\n",
       "      <td>2000.05.30</td>\n",
       "      <td>18:29</td>\n",
       "      <td>0.9298</td>\n",
       "      <td>0.9299</td>\n",
       "      <td>0.9298</td>\n",
       "      <td>0.9299</td>\n",
       "      <td>0</td>\n",
       "    </tr>\n",
       "    <tr>\n",
       "      <th>5</th>\n",
       "      <td>2000.05.30</td>\n",
       "      <td>18:37</td>\n",
       "      <td>0.9300</td>\n",
       "      <td>0.9300</td>\n",
       "      <td>0.9300</td>\n",
       "      <td>0.9300</td>\n",
       "      <td>0</td>\n",
       "    </tr>\n",
       "    <tr>\n",
       "      <th>6</th>\n",
       "      <td>2000.05.30</td>\n",
       "      <td>18:40</td>\n",
       "      <td>0.9299</td>\n",
       "      <td>0.9299</td>\n",
       "      <td>0.9299</td>\n",
       "      <td>0.9299</td>\n",
       "      <td>0</td>\n",
       "    </tr>\n",
       "    <tr>\n",
       "      <th>7</th>\n",
       "      <td>2000.05.30</td>\n",
       "      <td>18:41</td>\n",
       "      <td>0.9300</td>\n",
       "      <td>0.9300</td>\n",
       "      <td>0.9300</td>\n",
       "      <td>0.9300</td>\n",
       "      <td>0</td>\n",
       "    </tr>\n",
       "    <tr>\n",
       "      <th>8</th>\n",
       "      <td>2000.05.30</td>\n",
       "      <td>18:42</td>\n",
       "      <td>0.9299</td>\n",
       "      <td>0.9299</td>\n",
       "      <td>0.9298</td>\n",
       "      <td>0.9299</td>\n",
       "      <td>0</td>\n",
       "    </tr>\n",
       "    <tr>\n",
       "      <th>9</th>\n",
       "      <td>2000.05.30</td>\n",
       "      <td>18:43</td>\n",
       "      <td>0.9300</td>\n",
       "      <td>0.9300</td>\n",
       "      <td>0.9300</td>\n",
       "      <td>0.9300</td>\n",
       "      <td>0</td>\n",
       "    </tr>\n",
       "  </tbody>\n",
       "</table>\n",
       "</div>"
      ],
      "text/plain": [
       "   2000.05.30  17:27  0.9302  0.9302.1  0.9302.2  0.9302.3  0\n",
       "0  2000.05.30  17:35  0.9304    0.9305    0.9304    0.9305  0\n",
       "1  2000.05.30  17:38  0.9304    0.9304    0.9303    0.9303  0\n",
       "2  2000.05.30  17:43  0.9301    0.9301    0.9300    0.9300  0\n",
       "3  2000.05.30  17:44  0.9298    0.9298    0.9297    0.9297  0\n",
       "4  2000.05.30  18:29  0.9298    0.9299    0.9298    0.9299  0\n",
       "5  2000.05.30  18:37  0.9300    0.9300    0.9300    0.9300  0\n",
       "6  2000.05.30  18:40  0.9299    0.9299    0.9299    0.9299  0\n",
       "7  2000.05.30  18:41  0.9300    0.9300    0.9300    0.9300  0\n",
       "8  2000.05.30  18:42  0.9299    0.9299    0.9298    0.9299  0\n",
       "9  2000.05.30  18:43  0.9300    0.9300    0.9300    0.9300  0"
      ]
     },
     "execution_count": 3,
     "metadata": {},
     "output_type": "execute_result"
    }
   ],
   "source": [
    "import pandas as pd\n",
    "import matplotlib.pyplot as plt\n",
    "\n",
    "usd_eur_2000 = pd.read_csv(\"DAT_MT_EURUSD_M1_2000.csv\")\n",
    "usd_eur_2000[:10]"
   ]
  },
  {
   "cell_type": "markdown",
   "metadata": {},
   "source": [
    "These columns aren't well labled but that's okay, data is typicaly in OHLC - Open / High / Low / Close format."
   ]
  }
 ],
 "metadata": {
  "kernelspec": {
   "display_name": "Python [conda env:py35]",
   "language": "python",
   "name": "conda-env-py35-py"
  },
  "language_info": {
   "codemirror_mode": {
    "name": "ipython",
    "version": 3
   },
   "file_extension": ".py",
   "mimetype": "text/x-python",
   "name": "python",
   "nbconvert_exporter": "python",
   "pygments_lexer": "ipython3",
   "version": "3.5.3"
  }
 },
 "nbformat": 4,
 "nbformat_minor": 2
}
